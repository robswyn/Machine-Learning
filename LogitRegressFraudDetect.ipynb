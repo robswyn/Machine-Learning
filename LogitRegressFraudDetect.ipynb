{
  "nbformat": 4,
  "nbformat_minor": 0,
  "metadata": {
    "colab": {
      "name": "LogitRegressFraudDetect.ipynb",
      "provenance": [],
      "include_colab_link": true
    },
    "kernelspec": {
      "name": "python3",
      "display_name": "Python 3"
    }
  },
  "cells": [
    {
      "cell_type": "markdown",
      "metadata": {
        "id": "view-in-github",
        "colab_type": "text"
      },
      "source": [
        "<a href=\"https://colab.research.google.com/github/robswyn/Machine-Learning/blob/master/LogitRegressFraudDetect.ipynb\" target=\"_parent\"><img src=\"https://colab.research.google.com/assets/colab-badge.svg\" alt=\"Open In Colab\"/></a>"
      ]
    },
    {
      "cell_type": "code",
      "metadata": {
        "id": "gnP84MYql3GC",
        "colab_type": "code",
        "colab": {}
      },
      "source": [
        "#import dependancies "
      ],
      "execution_count": 0,
      "outputs": []
    },
    {
      "cell_type": "code",
      "metadata": {
        "id": "KnI__a0PmdXz",
        "colab_type": "code",
        "colab": {}
      },
      "source": [
        "import numpy as np\n",
        "import pandas as pd\n",
        "import tensorflow as tf\n",
        "from sklearn.model_selection import train_test_split\n",
        "from sklearn.preprocessing import StandardScaler\n",
        "from sklearn.linear_model import LogisticRegression\n",
        "from sklearn.pipeline import Pipeline\n",
        "from sklearn.metrics import roc_curve, roc_auc_score, classification_report, accuracy_score, confusion_matrix \n",
        "import seaborn as sns\n",
        "import matplotlib.pyplot as plt"
      ],
      "execution_count": 0,
      "outputs": []
    },
    {
      "cell_type": "code",
      "metadata": {
        "id": "PE0Kn4yznnfT",
        "colab_type": "code",
        "colab": {}
      },
      "source": [
        "credit_card = pd.read_csv('creditcard.csv')"
      ],
      "execution_count": 0,
      "outputs": []
    },
    {
      "cell_type": "code",
      "metadata": {
        "id": "v5mjWtEKokol",
        "colab_type": "code",
        "colab": {
          "base_uri": "https://localhost:8080/",
          "height": 350
        },
        "outputId": "a7869ac7-2d67-414e-f18b-8f268ce839c2"
      },
      "source": [
        "f, ax = plt.subplots(figsize=(7, 5))\n",
        "sns.countplot(x='Class', data=credit_card)\n",
        "_ = plt.title('# Fraud vs NonFraud')\n",
        "_ = plt.xlabel('Class (1==Fraud)')"
      ],
      "execution_count": 7,
      "outputs": [
        {
          "output_type": "display_data",
          "data": {
            "image/png": "[encoded data removed]",
            "text/plain": [
              "<Figure size 504x360 with 1 Axes>"
            ]
          },
          "metadata": {
            "tags": []
          }
        }
      ]
    },
    {
      "cell_type": "markdown",
      "metadata": {
        "id": "MRh5883oqvOd",
        "colab_type": "text"
      },
      "source": [
        "#Baseline output"
      ]
    },
    {
      "cell_type": "code",
      "metadata": {
        "id": "C7zb8SW1opkR",
        "colab_type": "code",
        "colab": {
          "base_uri": "https://localhost:8080/",
          "height": 34
        },
        "outputId": "fad3d13c-0b9c-44d7-dc9b-b5b77c0ec979"
      },
      "source": [
        "base_line_accuracy = 1-np.sum(credit_card.Class)/credit_card.shape[0]\n",
        "base_line_accuracy"
      ],
      "execution_count": 8,
      "outputs": [
        {
          "output_type": "execute_result",
          "data": {
            "text/plain": [
              "0.9982725143693799"
            ]
          },
          "metadata": {
            "tags": []
          },
          "execution_count": 8
        }
      ]
    },
    {
      "cell_type": "code",
      "metadata": {
        "id": "0UPR2jspowOP",
        "colab_type": "code",
        "colab": {}
      },
      "source": [
        "X = credit_card.drop(columns='Class', axis=1)\n",
        "y = credit_card.Class.values"
      ],
      "execution_count": 0,
      "outputs": []
    },
    {
      "cell_type": "code",
      "metadata": {
        "id": "OC4DuPpgo0rB",
        "colab_type": "code",
        "colab": {
          "base_uri": "https://localhost:8080/",
          "height": 587
        },
        "outputId": "d852b364-5c64-4945-c1bd-2d462bbd31f0"
      },
      "source": [
        "corr = X.corr()\n",
        "\n",
        "mask = np.zeros_like(corr, dtype=np.bool)\n",
        "mask[np.triu_indices_from(mask)] = True\n",
        "\n",
        "cmap = sns.diverging_palette(220, 10, as_cmap=True)\n",
        "\n",
        "# Draw the heatmap with the mask and correct aspect ratio\n",
        "f, ax = plt.subplots(figsize=(11, 9))\n",
        "sns.heatmap(corr, mask=mask, cmap=cmap, vmax=.3, center=0,\n",
        "            square=True, linewidths=.5, cbar_kws={\"shrink\": .5})"
      ],
      "execution_count": 10,
      "outputs": [
        {
          "output_type": "execute_result",
          "data": {
            "text/plain": [
              "<matplotlib.axes._subplots.AxesSubplot at 0x7f55a42d5f28>"
            ]
          },
          "metadata": {
            "tags": []
          },
          "execution_count": 10
        },
        {
          "output_type": "display_data",
          "data": {
            "image/png": "[encoded data removed]",
            "text/plain": [
              "<Figure size 792x648 with 2 Axes>"
            ]
          },
          "metadata": {
            "tags": []
          }
        }
      ]
    },
    {
      "cell_type": "markdown",
      "metadata": {
        "id": "n61LfYmno7om",
        "colab_type": "text"
      },
      "source": [
        "Train Model \n"
      ]
    },
    {
      "cell_type": "code",
      "metadata": {
        "id": "nAjopHsmo9yQ",
        "colab_type": "code",
        "colab": {}
      },
      "source": [
        "np.random.seed(42)\n",
        "X_train, X_test, y_train, y_test = train_test_split(X, y)"
      ],
      "execution_count": 0,
      "outputs": []
    },
    {
      "cell_type": "markdown",
      "metadata": {
        "id": "yiWWcudorSQP",
        "colab_type": "text"
      },
      "source": [
        "Model definition"
      ]
    },
    {
      "cell_type": "code",
      "metadata": {
        "id": "n1dxXCF7pF7G",
        "colab_type": "code",
        "colab": {
          "base_uri": "https://localhost:8080/",
          "height": 156
        },
        "outputId": "2b0da06a-2b14-464c-dc43-1f7186ea54c9"
      },
      "source": [
        "lr.fit(scaler.fit_transform(X_train), y_train)"
      ],
      "execution_count": 16,
      "outputs": [
        {
          "output_type": "stream",
          "text": [
            "/usr/local/lib/python3.6/dist-packages/sklearn/linear_model/logistic.py:432: FutureWarning: Default solver will be changed to 'lbfgs' in 0.22. Specify a solver to silence this warning.\n",
            "  FutureWarning)\n"
          ],
          "name": "stderr"
        },
        {
          "output_type": "execute_result",
          "data": {
            "text/plain": [
              "LogisticRegression(C=1.0, class_weight=None, dual=False, fit_intercept=True,\n",
              "                   intercept_scaling=1, l1_ratio=None, max_iter=100,\n",
              "                   multi_class='warn', n_jobs=None, penalty='l2',\n",
              "                   random_state=None, solver='warn', tol=0.0001, verbose=0,\n",
              "                   warm_start=False)"
            ]
          },
          "metadata": {
            "tags": []
          },
          "execution_count": 16
        }
      ]
    },
    {
      "cell_type": "code",
      "metadata": {
        "id": "JTKeehE7pJEC",
        "colab_type": "code",
        "colab": {
          "base_uri": "https://localhost:8080/",
          "height": 34
        },
        "outputId": "4d2fc9f3-d862-4d1c-9aeb-2be50b0992f3"
      },
      "source": [
        "lr.predict(scaler.transform(X_train))"
      ],
      "execution_count": 17,
      "outputs": [
        {
          "output_type": "execute_result",
          "data": {
            "text/plain": [
              "array([0, 0, 0, ..., 0, 0, 0])"
            ]
          },
          "metadata": {
            "tags": []
          },
          "execution_count": 17
        }
      ]
    },
    {
      "cell_type": "code",
      "metadata": {
        "id": "P3G0Jz9WpMq_",
        "colab_type": "code",
        "colab": {}
      },
      "source": [
        "scaler = StandardScaler()\n",
        "lr = LogisticRegression()\n",
        "model1 = Pipeline([('standardize', scaler),\n",
        "                    ('log_reg', lr)])"
      ],
      "execution_count": 0,
      "outputs": []
    },
    {
      "cell_type": "markdown",
      "metadata": {
        "id": "D_eMghZxrb6T",
        "colab_type": "text"
      },
      "source": [
        "Fit our model to the training data"
      ]
    },
    {
      "cell_type": "code",
      "metadata": {
        "id": "McWs6wtJpQDa",
        "colab_type": "code",
        "colab": {
          "base_uri": "https://localhost:8080/",
          "height": 275
        },
        "outputId": "7f28f4c7-943b-41ac-cd50-bffb97fcfc1e"
      },
      "source": [
        "model1.fit(X_train, y_train)"
      ],
      "execution_count": 18,
      "outputs": [
        {
          "output_type": "stream",
          "text": [
            "/usr/local/lib/python3.6/dist-packages/sklearn/linear_model/logistic.py:432: FutureWarning: Default solver will be changed to 'lbfgs' in 0.22. Specify a solver to silence this warning.\n",
            "  FutureWarning)\n"
          ],
          "name": "stderr"
        },
        {
          "output_type": "execute_result",
          "data": {
            "text/plain": [
              "Pipeline(memory=None,\n",
              "         steps=[('standardize',\n",
              "                 StandardScaler(copy=True, with_mean=True, with_std=True)),\n",
              "                ('log_reg',\n",
              "                 LogisticRegression(C=1.0, class_weight=None, dual=False,\n",
              "                                    fit_intercept=True, intercept_scaling=1,\n",
              "                                    l1_ratio=None, max_iter=100,\n",
              "                                    multi_class='warn', n_jobs=None,\n",
              "                                    penalty='l2', random_state=None,\n",
              "                                    solver='warn', tol=0.0001, verbose=0,\n",
              "                                    warm_start=False))],\n",
              "         verbose=False)"
            ]
          },
          "metadata": {
            "tags": []
          },
          "execution_count": 18
        }
      ]
    },
    {
      "cell_type": "markdown",
      "metadata": {
        "id": "GDOQ6m0Qrl34",
        "colab_type": "text"
      },
      "source": [
        "Training score and Test score"
      ]
    },
    {
      "cell_type": "code",
      "metadata": {
        "id": "-GqZX8mPqC81",
        "colab_type": "code",
        "colab": {
          "base_uri": "https://localhost:8080/",
          "height": 102
        },
        "outputId": "c2e93b78-42ba-49aa-ac5c-4b0fe33d4092"
      },
      "source": [
        "y_train_hat = model1.predict(X_train)\n",
        "y_train_hat_probs = model1.predict_proba(X_train)[:,1]\n",
        "train_accuracy = accuracy_score(y_train, y_train_hat)*100\n",
        "train_auc_roc = roc_auc_score(y_train, y_train_hat_probs)*100\n",
        "print('Confusion matrix:\\n', confusion_matrix(y_train, y_train_hat))\n",
        "print('Training accuracy: %.4f %%' % train_accuracy)\n",
        "print('Training AUC: %.4f %%' % train_auc_roc)"
      ],
      "execution_count": 19,
      "outputs": [
        {
          "output_type": "stream",
          "text": [
            "Confusion matrix:\n",
            " [[213200     26]\n",
            " [   137    242]]\n",
            "Training accuracy: 99.9237 %\n",
            "Training AUC: 98.0664 %\n"
          ],
          "name": "stdout"
        }
      ]
    },
    {
      "cell_type": "markdown",
      "metadata": {
        "id": "7OooiWpKrvqB",
        "colab_type": "text"
      },
      "source": [
        " 68 fraudulent transactions out of 113 (recall of 60%) and produce 12 false alarms (<0.02%) on the test data."
      ]
    },
    {
      "cell_type": "code",
      "metadata": {
        "id": "Qm9HQdl5qIUS",
        "colab_type": "code",
        "colab": {
          "base_uri": "https://localhost:8080/",
          "height": 102
        },
        "outputId": "9e0d9be1-4c14-4f7e-ff3d-917902de7da2"
      },
      "source": [
        "y_test_hat = model1.predict(X_test)\n",
        "y_test_hat_probs = model1.predict_proba(X_test)[:,1]\n",
        "test_accuracy = accuracy_score(y_test, y_test_hat)*100\n",
        "test_auc_roc = roc_auc_score(y_test, y_test_hat_probs)*100\n",
        "print('Confusion matrix:\\n', confusion_matrix(y_test, y_test_hat))\n",
        "print('Training accuracy: %.4f %%' % test_accuracy)\n",
        "print('Training AUC: %.4f %%' % test_auc_roc)"
      ],
      "execution_count": 20,
      "outputs": [
        {
          "output_type": "stream",
          "text": [
            "Confusion matrix:\n",
            " [[71077    12]\n",
            " [   45    68]]\n",
            "Training accuracy: 99.9199 %\n",
            "Training AUC: 97.4810 %\n"
          ],
          "name": "stdout"
        }
      ]
    },
    {
      "cell_type": "code",
      "metadata": {
        "id": "NPZM3GuBqNHE",
        "colab_type": "code",
        "colab": {
          "base_uri": "https://localhost:8080/",
          "height": 170
        },
        "outputId": "e72c5ace-e0bb-4931-83b2-5d153b0c4a30"
      },
      "source": [
        "print(classification_report(y_test, y_test_hat, digits=6))"
      ],
      "execution_count": 21,
      "outputs": [
        {
          "output_type": "stream",
          "text": [
            "              precision    recall  f1-score   support\n",
            "\n",
            "           0   0.999367  0.999831  0.999599     71089\n",
            "           1   0.850000  0.601770  0.704663       113\n",
            "\n",
            "    accuracy                       0.999199     71202\n",
            "   macro avg   0.924684  0.800801  0.852131     71202\n",
            "weighted avg   0.999130  0.999199  0.999131     71202\n",
            "\n"
          ],
          "name": "stdout"
        }
      ]
    },
    {
      "cell_type": "markdown",
      "metadata": {
        "id": "wMR3iP5zr-Ty",
        "colab_type": "text"
      },
      "source": [
        "Visualize the Receiver-Operator-Curve"
      ]
    },
    {
      "cell_type": "code",
      "metadata": {
        "id": "XVPx_kLeqSPl",
        "colab_type": "code",
        "colab": {
          "base_uri": "https://localhost:8080/",
          "height": 403
        },
        "outputId": "bb1da922-bf35-436b-a41c-90615faee71c"
      },
      "source": [
        "fpr, tpr, thresholds = roc_curve(y_test, y_test_hat_probs, drop_intermediate=True)\n",
        "\n",
        "f, ax = plt.subplots(figsize=(9, 6))\n",
        "_ = plt.plot(fpr, tpr, [0,1], [0, 1])\n",
        "_ = plt.title('AUC ROC')\n",
        "_ = plt.xlabel('False positive rate')\n",
        "_ = plt.ylabel('True positive rate')\n",
        "plt.style.use('seaborn')\n",
        "\n",
        "plt.savefig('auc_roc.png', dpi=600)"
      ],
      "execution_count": 22,
      "outputs": [
        {
          "output_type": "display_data",
          "data": {
            "image/png": "[encoded data removed]",
            "text/plain": [
              "<Figure size 648x432 with 1 Axes>"
            ]
          },
          "metadata": {
            "tags": []
          }
        }
      ]
    },
    {
      "cell_type": "markdown",
      "metadata": {
        "id": "syti3bKysgA3",
        "colab_type": "text"
      },
      "source": [
        "#If we set the threshold to 90% the recall decrease from 60% to 45%. while the false positve rate is the same. We can see that our model assign some non-fraudulent a very high probability to be fraud"
      ]
    },
    {
      "cell_type": "code",
      "metadata": {
        "id": "H9OxSJ7qqXz6",
        "colab_type": "code",
        "colab": {
          "base_uri": "https://localhost:8080/",
          "height": 221
        },
        "outputId": "e69116c1-b73f-45dc-f6a0-10ba5243d6cc"
      },
      "source": [
        "y_hat_90 = (y_test_hat_probs > 0.90 )*1\n",
        "print('Confusion matrix:\\n', confusion_matrix(y_test, y_hat_90))\n",
        "print(classification_report(y_test, y_hat_90, digits=6))"
      ],
      "execution_count": 23,
      "outputs": [
        {
          "output_type": "stream",
          "text": [
            "Confusion matrix:\n",
            " [[71077    12]\n",
            " [   62    51]]\n",
            "              precision    recall  f1-score   support\n",
            "\n",
            "           0   0.999128  0.999831  0.999480     71089\n",
            "           1   0.809524  0.451327  0.579545       113\n",
            "\n",
            "    accuracy                       0.998961     71202\n",
            "   macro avg   0.904326  0.725579  0.789513     71202\n",
            "weighted avg   0.998828  0.998961  0.998813     71202\n",
            "\n"
          ],
          "name": "stdout"
        }
      ]
    },
    {
      "cell_type": "markdown",
      "metadata": {
        "id": "cIUCykDPsXGl",
        "colab_type": "text"
      },
      "source": [
        "#If we set the threshold down to 10%, we can detect around 75% of all fraud case but almost double our false positive rate (now 25 false alarms)"
      ]
    },
    {
      "cell_type": "code",
      "metadata": {
        "id": "gyvpRwOCqbdK",
        "colab_type": "code",
        "colab": {
          "base_uri": "https://localhost:8080/",
          "height": 221
        },
        "outputId": "da0fbb7a-3be3-488c-e316-68050a410d5f"
      },
      "source": [
        "y_hat_10 = (y_test_hat_probs > 0.10)*1\n",
        "print('Confusion matrix:\\n', confusion_matrix(y_test, y_hat_10))\n",
        "print(classification_report(y_test, y_hat_10, digits=4))"
      ],
      "execution_count": 24,
      "outputs": [
        {
          "output_type": "stream",
          "text": [
            "Confusion matrix:\n",
            " [[71064    25]\n",
            " [   25    88]]\n",
            "              precision    recall  f1-score   support\n",
            "\n",
            "           0     0.9996    0.9996    0.9996     71089\n",
            "           1     0.7788    0.7788    0.7788       113\n",
            "\n",
            "    accuracy                         0.9993     71202\n",
            "   macro avg     0.8892    0.8892    0.8892     71202\n",
            "weighted avg     0.9993    0.9993    0.9993     71202\n",
            "\n"
          ],
          "name": "stdout"
        }
      ]
    }
  ]
}