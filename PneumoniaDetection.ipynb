{
  "nbformat": 4,
  "nbformat_minor": 0,
  "metadata": {
    "colab": {
      "name": "PneumoniaDetection.ipynb",
      "provenance": [],
      "include_colab_link": true
    },
    "kernelspec": {
      "name": "python3",
      "display_name": "Python 3"
    },
    "accelerator": "GPU"
  },
  "cells": [
    {
      "cell_type": "markdown",
      "metadata": {
        "id": "view-in-github",
        "colab_type": "text"
      },
      "source": [
        "<a href=\"https://colab.research.google.com/github/robswyn/Machine-Learning/blob/master/PneumoniaDetection.ipynb\" target=\"_parent\"><img src=\"https://colab.research.google.com/assets/colab-badge.svg\" alt=\"Open In Colab\"/></a>"
      ]
    },
    {
      "cell_type": "markdown",
      "metadata": {
        "id": "Vth348bd7cbi",
        "colab_type": "text"
      },
      "source": [
        "Import zip file wth images\n"
      ]
    },
    {
      "cell_type": "code",
      "metadata": {
        "id": "5LToLyTq5j1T",
        "colab_type": "code",
        "colab": {
          "base_uri": "https://localhost:8080/",
          "height": 34
        },
        "outputId": "ff332124-1279-4d05-f056-4517e7a22e37"
      },
      "source": [
        "from zipfile import ZipFile\n",
        "file_name = \"chest_xray.zip\"\n",
        "\n",
        "with ZipFile(file_name,'r') as zip:\n",
        "  zip.extractall()\n",
        "  print('Done')"
      ],
      "execution_count": 1,
      "outputs": [
        {
          "output_type": "stream",
          "text": [
            "Done\n"
          ],
          "name": "stdout"
        }
      ]
    },
    {
      "cell_type": "markdown",
      "metadata": {
        "id": "CM-mbEFT7krw",
        "colab_type": "text"
      },
      "source": [
        "Delete Zip file\n"
      ]
    },
    {
      "cell_type": "code",
      "metadata": {
        "id": "ZV0k4J826RZD",
        "colab_type": "code",
        "colab": {}
      },
      "source": [
        "!rm -rf data.zip"
      ],
      "execution_count": 0,
      "outputs": []
    },
    {
      "cell_type": "markdown",
      "metadata": {
        "id": "nJl6ZDzO7pzk",
        "colab_type": "text"
      },
      "source": [
        "Import Dependacies"
      ]
    },
    {
      "cell_type": "code",
      "metadata": {
        "id": "tOl21WcVuuLH",
        "colab_type": "code",
        "outputId": "f635f544-7f33-4d0b-ef2c-1112936b0794",
        "colab": {
          "base_uri": "https://localhost:8080/",
          "height": 51
        }
      },
      "source": [
        "# This Python 3 environment comes with many helpful analytics libraries installed\n",
        "# It is defined by the kaggle/python docker image: https://github.com/kaggle/docker-python\n",
        "# For example, here's several helpful packages to load in \n",
        "\n",
        "import numpy as np # linear algebra\n",
        "import pandas as pd # data processing, CSV file I/O (e.g. pd.read_csv)\n",
        "\n",
        "# Input data files are available in the \"../input/\" directory.\n",
        "# For example, running this (by clicking run or pressing Shift+Enter) will list the files in the input directory\n",
        "\n",
        "import os\n",
        "print(os.listdir(\"../content\"))\n",
        "\n",
        "from os import listdir, makedirs\n",
        "from os.path import join, exists, expanduser\n",
        "\n",
        "from keras import applications\n",
        "from keras.preprocessing.image import ImageDataGenerator\n",
        "from keras import optimizers\n",
        "from keras.models import Sequential, Model, load_model\n",
        "from keras.layers import Dense, GlobalAveragePooling2D\n",
        "from keras.layers import Activation, Dropout, Flatten, Dense\n",
        "from keras import backend as K\n",
        "import tensorflow as tf\n",
        "from keras.utils.data_utils import Sequence\n",
        "import sys\n",
        "from PIL import *\n",
        "sys.modules['Image'] = Image \n",
        "print(os.listdir(\"../content/chest_xray/train\"))\n",
        "# Any results you write to the current directory are saved as output."
      ],
      "execution_count": 10,
      "outputs": [
        {
          "output_type": "stream",
          "text": [
            "['.config', 'chest_xray.zip', '__MACOSX', 'chest_xray', 'sample_data']\n",
            "['PNEUMONIA', '.DS_Store', 'NORMAL']\n"
          ],
          "name": "stdout"
        }
      ]
    },
    {
      "cell_type": "code",
      "metadata": {
        "id": "dK7GyhWUPP3K",
        "colab_type": "code",
        "colab": {}
      },
      "source": [
        "img_width, img_height = 224, 224\n",
        "train_data = '../content/chest_xray/train'\n",
        "test_data = '../content/chest_xray/test'\n",
        "val_data = '../content/chest_xray/val'"
      ],
      "execution_count": 0,
      "outputs": []
    },
    {
      "cell_type": "code",
      "metadata": {
        "id": "szHzQAOFPc3K",
        "colab_type": "code",
        "colab": {
          "base_uri": "https://localhost:8080/",
          "height": 68
        },
        "outputId": "0dbb67c4-de91-44d5-9598-f6450efe3bf4"
      },
      "source": [
        "from keras.preprocessing.image import ImageDataGenerator\n",
        "train_datagen = ImageDataGenerator(\n",
        "    rescale=1. / 255,\n",
        "    shear_range=0.2,\n",
        "    zoom_range=0.2,\n",
        "    horizontal_flip=True)\n",
        "\n",
        "test_datagen = ImageDataGenerator(rescale=1. / 255)\n",
        "val_datagen = ImageDataGenerator(rescale=1. / 255)\n",
        "\n",
        "train_generator = train_datagen.flow_from_directory(\n",
        "    train_data,\n",
        "    target_size=(224, 224),\n",
        "    batch_size=16,\n",
        "    class_mode='categorical')\n",
        "\n",
        "test_generator = test_datagen.flow_from_directory(\n",
        "    test_data,\n",
        "    target_size=(224, 224),\n",
        "    batch_size=16,\n",
        "    class_mode='categorical')\n",
        "\n",
        "validation_generator = val_datagen.flow_from_directory(\n",
        "    val_data,\n",
        "    target_size=(224, 224),\n",
        "    batch_size=16,\n",
        "    class_mode='categorical')"
      ],
      "execution_count": 15,
      "outputs": [
        {
          "output_type": "stream",
          "text": [
            "Found 5216 images belonging to 2 classes.\n",
            "Found 624 images belonging to 2 classes.\n",
            "Found 16 images belonging to 2 classes.\n"
          ],
          "name": "stdout"
        }
      ]
    },
    {
      "cell_type": "code",
      "metadata": {
        "id": "-jvSgTlHQfwQ",
        "colab_type": "code",
        "colab": {
          "base_uri": "https://localhost:8080/",
          "height": 343
        },
        "outputId": "9517cdec-533a-4591-81c6-c356f4279282"
      },
      "source": [
        "#import inception with pre-trained weights. do not include fully #connected layers\n",
        "from keras.applications.resnet50 import ResNet50\n",
        "model = ResNet50(weights='imagenet', include_top=False)"
      ],
      "execution_count": 16,
      "outputs": [
        {
          "output_type": "stream",
          "text": [
            "WARNING:tensorflow:From /usr/local/lib/python3.6/dist-packages/keras/backend/tensorflow_backend.py:66: The name tf.get_default_graph is deprecated. Please use tf.compat.v1.get_default_graph instead.\n",
            "\n",
            "WARNING:tensorflow:From /usr/local/lib/python3.6/dist-packages/keras/backend/tensorflow_backend.py:541: The name tf.placeholder is deprecated. Please use tf.compat.v1.placeholder instead.\n",
            "\n",
            "WARNING:tensorflow:From /usr/local/lib/python3.6/dist-packages/keras/backend/tensorflow_backend.py:4479: The name tf.truncated_normal is deprecated. Please use tf.random.truncated_normal instead.\n",
            "\n",
            "WARNING:tensorflow:From /usr/local/lib/python3.6/dist-packages/keras/backend/tensorflow_backend.py:190: The name tf.get_default_session is deprecated. Please use tf.compat.v1.get_default_session instead.\n",
            "\n",
            "WARNING:tensorflow:From /usr/local/lib/python3.6/dist-packages/keras/backend/tensorflow_backend.py:197: The name tf.ConfigProto is deprecated. Please use tf.compat.v1.ConfigProto instead.\n",
            "\n",
            "WARNING:tensorflow:From /usr/local/lib/python3.6/dist-packages/keras/backend/tensorflow_backend.py:2041: The name tf.nn.fused_batch_norm is deprecated. Please use tf.compat.v1.nn.fused_batch_norm instead.\n",
            "\n",
            "WARNING:tensorflow:From /usr/local/lib/python3.6/dist-packages/keras/backend/tensorflow_backend.py:4267: The name tf.nn.max_pool is deprecated. Please use tf.nn.max_pool2d instead.\n",
            "\n"
          ],
          "name": "stdout"
        },
        {
          "output_type": "stream",
          "text": [
            "/usr/local/lib/python3.6/dist-packages/keras_applications/resnet50.py:265: UserWarning: The output shape of `ResNet50(include_top=False)` has been changed since Keras 2.2.0.\n",
            "  warnings.warn('The output shape of `ResNet50(include_top=False)` '\n"
          ],
          "name": "stderr"
        },
        {
          "output_type": "stream",
          "text": [
            "Downloading data from https://github.com/fchollet/deep-learning-models/releases/download/v0.2/resnet50_weights_tf_dim_ordering_tf_kernels_notop.h5\n",
            "94658560/94653016 [==============================] - 1s 0us/step\n"
          ],
          "name": "stdout"
        }
      ]
    },
    {
      "cell_type": "code",
      "metadata": {
        "id": "2hRoAGOpQoBw",
        "colab_type": "code",
        "colab": {}
      },
      "source": [
        "result = model.output\n",
        "result = GlobalAveragePooling2D()(result)\n",
        "# add a fully-connected layer\n",
        "result = Dense(512, activation='relu')(result)\n",
        "# and a fully connected output/classification layer\n",
        "predictions = Dense(2, activation='sigmoid')(result)"
      ],
      "execution_count": 0,
      "outputs": []
    },
    {
      "cell_type": "code",
      "metadata": {
        "id": "WRdRwtw7QvUd",
        "colab_type": "code",
        "colab": {}
      },
      "source": [
        "inception_transfer = Model(inputs=model.input, outputs=predictions)"
      ],
      "execution_count": 0,
      "outputs": []
    },
    {
      "cell_type": "code",
      "metadata": {
        "id": "v-Qm3dqPQxDB",
        "colab_type": "code",
        "colab": {
          "base_uri": "https://localhost:8080/",
          "height": 71
        },
        "outputId": "79a519b2-a8ad-4365-c98f-4cd5a329ddda"
      },
      "source": [
        "inception_transfer.compile(loss='categorical_crossentropy',\n",
        "              optimizer=optimizers.SGD(lr=1e-4, momentum=0.9),\n",
        "              metrics=['accuracy'])"
      ],
      "execution_count": 19,
      "outputs": [
        {
          "output_type": "stream",
          "text": [
            "WARNING:tensorflow:From /usr/local/lib/python3.6/dist-packages/keras/optimizers.py:793: The name tf.train.Optimizer is deprecated. Please use tf.compat.v1.train.Optimizer instead.\n",
            "\n"
          ],
          "name": "stdout"
        }
      ]
    },
    {
      "cell_type": "code",
      "metadata": {
        "id": "Wgw3eECQQ3BL",
        "colab_type": "code",
        "colab": {
          "base_uri": "https://localhost:8080/",
          "height": 632
        },
        "outputId": "0ec696ef-9f43-4140-c066-921cd8dc5f26"
      },
      "source": [
        "import tensorflow as tf\n",
        "with tf.device(\"/device:GPU:0\"):\n",
        "    history_pretrained = inception_transfer.fit_generator(\n",
        "    train_generator,\n",
        "    epochs=16, shuffle = True, verbose = 1, validation_data = test_generator)"
      ],
      "execution_count": 20,
      "outputs": [
        {
          "output_type": "stream",
          "text": [
            "WARNING:tensorflow:From /usr/local/lib/python3.6/dist-packages/tensorflow/python/ops/math_grad.py:1250: add_dispatch_support.<locals>.wrapper (from tensorflow.python.ops.array_ops) is deprecated and will be removed in a future version.\n",
            "Instructions for updating:\n",
            "Use tf.where in 2.0, which has the same broadcast rule as np.where\n",
            "Epoch 1/16\n",
            "326/326 [==============================] - 187s 573ms/step - loss: 0.3175 - acc: 0.8646 - val_loss: 0.3530 - val_acc: 0.8413\n",
            "Epoch 2/16\n",
            "326/326 [==============================] - 174s 535ms/step - loss: 0.1515 - acc: 0.9450 - val_loss: 0.2316 - val_acc: 0.9135\n",
            "Epoch 3/16\n",
            "326/326 [==============================] - 174s 535ms/step - loss: 0.1153 - acc: 0.9597 - val_loss: 0.3501 - val_acc: 0.8814\n",
            "Epoch 4/16\n",
            "326/326 [==============================] - 175s 537ms/step - loss: 0.1000 - acc: 0.9661 - val_loss: 0.3606 - val_acc: 0.8606\n",
            "Epoch 5/16\n",
            "326/326 [==============================] - 174s 534ms/step - loss: 0.0884 - acc: 0.9695 - val_loss: 0.3567 - val_acc: 0.8622\n",
            "Epoch 6/16\n",
            "326/326 [==============================] - 175s 536ms/step - loss: 0.0817 - acc: 0.9682 - val_loss: 0.4390 - val_acc: 0.8654\n",
            "Epoch 7/16\n",
            "326/326 [==============================] - 173s 532ms/step - loss: 0.0770 - acc: 0.9720 - val_loss: 0.2131 - val_acc: 0.9135\n",
            "Epoch 8/16\n",
            "326/326 [==============================] - 174s 533ms/step - loss: 0.0717 - acc: 0.9724 - val_loss: 0.4678 - val_acc: 0.8526\n",
            "Epoch 9/16\n",
            "326/326 [==============================] - 174s 532ms/step - loss: 0.0636 - acc: 0.9781 - val_loss: 0.3150 - val_acc: 0.8878\n",
            "Epoch 10/16\n",
            "326/326 [==============================] - 174s 535ms/step - loss: 0.0596 - acc: 0.9803 - val_loss: 0.2549 - val_acc: 0.9135\n",
            "Epoch 11/16\n",
            "326/326 [==============================] - 174s 533ms/step - loss: 0.0555 - acc: 0.9808 - val_loss: 0.2196 - val_acc: 0.9167\n",
            "Epoch 12/16\n",
            "326/326 [==============================] - 173s 532ms/step - loss: 0.0520 - acc: 0.9810 - val_loss: 0.2284 - val_acc: 0.9199\n",
            "Epoch 13/16\n",
            "326/326 [==============================] - 174s 534ms/step - loss: 0.0549 - acc: 0.9806 - val_loss: 0.1793 - val_acc: 0.9231\n",
            "Epoch 14/16\n",
            "326/326 [==============================] - 174s 535ms/step - loss: 0.0492 - acc: 0.9816 - val_loss: 0.2743 - val_acc: 0.9151\n",
            "Epoch 15/16\n",
            "326/326 [==============================] - 175s 536ms/step - loss: 0.0481 - acc: 0.9826 - val_loss: 0.2951 - val_acc: 0.9038\n",
            "Epoch 16/16\n",
            "326/326 [==============================] - 174s 534ms/step - loss: 0.0469 - acc: 0.9849 - val_loss: 0.1934 - val_acc: 0.9311\n"
          ],
          "name": "stdout"
        }
      ]
    },
    {
      "cell_type": "code",
      "metadata": {
        "id": "ZruAy0sXafTT",
        "colab_type": "code",
        "colab": {
          "base_uri": "https://localhost:8080/",
          "height": 573
        },
        "outputId": "9dc41032-e261-453e-842d-0edd970cd80b"
      },
      "source": [
        "import matplotlib.pyplot as plt\n",
        "# summarize history for accuracy\n",
        "plt.plot(history_pretrained.history['val_acc'])\n",
        "plt.title('model accuracy')\n",
        "plt.ylabel('accuracy')\n",
        "plt.xlabel('epoch')\n",
        "plt.legend(['Pretrained'], loc='upper left')\n",
        "plt.show()\n",
        "# summarize history for loss\n",
        "plt.plot(history_pretrained.history['val_loss'])\n",
        "plt.title('model loss')\n",
        "plt.ylabel('loss')\n",
        "plt.xlabel('epoch')\n",
        "plt.legend(['Pretrained'], loc='upper left')\n",
        "plt.show()"
      ],
      "execution_count": 21,
      "outputs": [
        {
          "output_type": "display_data",
          "data": {
            "image/png": "[encoded data removed]",
            "text/plain": [
              "<Figure size 432x288 with 1 Axes>"
            ]
          },
          "metadata": {
            "tags": []
          }
        },
        {
          "output_type": "display_data",
          "data": {
            "image/png": "[encoded data removed]",
            "text/plain": [
              "<Figure size 432x288 with 1 Axes>"
            ]
          },
          "metadata": {
            "tags": []
          }
        }
      ]
    },
    {
      "cell_type": "code",
      "metadata": {
        "id": "YDhQXaNjcGRi",
        "colab_type": "code",
        "colab": {
          "base_uri": "https://localhost:8080/",
          "height": 595
        },
        "outputId": "b31e7cb1-5bc1-4063-b580-9b0a908187c9"
      },
      "source": [
        "from keras.applications.vgg16 import VGG16\n",
        "model = VGG16(weights='imagenet', include_top=False)\n",
        "result = model.output\n",
        "result = GlobalAveragePooling2D()(result)\n",
        "# add a fully-connected layer\n",
        "result = Dense(512, activation='relu')(result)\n",
        "# and a fully connected output/classification layer\n",
        "predictions = Dense(2, activation='sigmoid')(result)\n",
        "inception_transfer = Model(inputs=model.input, outputs=predictions)\n",
        "inception_transfer.compile(loss='categorical_crossentropy',\n",
        "              optimizer=optimizers.SGD(lr=1e-4, momentum=0.9),\n",
        "              metrics=['accuracy'])\n",
        "import tensorflow as tf\n",
        "with tf.device(\"/device:GPU:0\"):\n",
        "    history_pretrained = inception_transfer.fit_generator(\n",
        "    train_generator,\n",
        "    epochs=16, shuffle = True, verbose = 1, validation_data = test_generator)"
      ],
      "execution_count": 22,
      "outputs": [
        {
          "output_type": "stream",
          "text": [
            "Downloading data from https://github.com/fchollet/deep-learning-models/releases/download/v0.1/vgg16_weights_tf_dim_ordering_tf_kernels_notop.h5\n",
            "58892288/58889256 [==============================] - 1s 0us/step\n",
            "Epoch 1/16\n",
            "326/326 [==============================] - 179s 548ms/step - loss: 0.3802 - acc: 0.8163 - val_loss: 0.6784 - val_acc: 0.5785\n",
            "Epoch 2/16\n",
            "326/326 [==============================] - 170s 522ms/step - loss: 0.2395 - acc: 0.9020 - val_loss: 0.2976 - val_acc: 0.8686\n",
            "Epoch 3/16\n",
            "326/326 [==============================] - 171s 524ms/step - loss: 0.1935 - acc: 0.9248 - val_loss: 0.2572 - val_acc: 0.8974\n",
            "Epoch 4/16\n",
            "326/326 [==============================] - 169s 517ms/step - loss: 0.1447 - acc: 0.9448 - val_loss: 0.2617 - val_acc: 0.9071\n",
            "Epoch 5/16\n",
            "326/326 [==============================] - 170s 521ms/step - loss: 0.1433 - acc: 0.9421 - val_loss: 0.2145 - val_acc: 0.9199\n",
            "Epoch 6/16\n",
            "326/326 [==============================] - 170s 520ms/step - loss: 0.1357 - acc: 0.9505 - val_loss: 0.2235 - val_acc: 0.9151\n",
            "Epoch 7/16\n",
            "326/326 [==============================] - 169s 518ms/step - loss: 0.1137 - acc: 0.9559 - val_loss: 0.2751 - val_acc: 0.9103\n",
            "Epoch 8/16\n",
            "326/326 [==============================] - 169s 520ms/step - loss: 0.1218 - acc: 0.9542 - val_loss: 0.2296 - val_acc: 0.9151\n",
            "Epoch 9/16\n",
            "326/326 [==============================] - 171s 526ms/step - loss: 0.0995 - acc: 0.9643 - val_loss: 0.3264 - val_acc: 0.8910\n",
            "Epoch 10/16\n",
            "326/326 [==============================] - 170s 521ms/step - loss: 0.0912 - acc: 0.9649 - val_loss: 0.2398 - val_acc: 0.9167\n",
            "Epoch 11/16\n",
            "326/326 [==============================] - 170s 523ms/step - loss: 0.0948 - acc: 0.9663 - val_loss: 0.3068 - val_acc: 0.8958\n",
            "Epoch 12/16\n",
            "326/326 [==============================] - 168s 516ms/step - loss: 0.0813 - acc: 0.9728 - val_loss: 0.2444 - val_acc: 0.9199\n",
            "Epoch 13/16\n",
            "326/326 [==============================] - 170s 521ms/step - loss: 0.0893 - acc: 0.9682 - val_loss: 0.1678 - val_acc: 0.9375\n",
            "Epoch 14/16\n",
            "326/326 [==============================] - 167s 514ms/step - loss: 0.0788 - acc: 0.9712 - val_loss: 0.3342 - val_acc: 0.8942\n",
            "Epoch 15/16\n",
            "326/326 [==============================] - 170s 520ms/step - loss: 0.0761 - acc: 0.9737 - val_loss: 0.2302 - val_acc: 0.9167\n",
            "Epoch 16/16\n",
            "326/326 [==============================] - 171s 523ms/step - loss: 0.0738 - acc: 0.9741 - val_loss: 0.1589 - val_acc: 0.9359\n"
          ],
          "name": "stdout"
        }
      ]
    },
    {
      "cell_type": "code",
      "metadata": {
        "id": "bdd2_n18cUM3",
        "colab_type": "code",
        "colab": {
          "base_uri": "https://localhost:8080/",
          "height": 573
        },
        "outputId": "dcd06afa-efbc-4969-bf2b-ffc25c9bc5ef"
      },
      "source": [
        "import matplotlib.pyplot as plt\n",
        "# summarize history for accuracy\n",
        "plt.plot(history_pretrained.history['val_acc'])\n",
        "plt.title('model accuracy')\n",
        "plt.ylabel('accuracy')\n",
        "plt.xlabel('epoch')\n",
        "plt.legend(['Pretrained'], loc='upper left')\n",
        "plt.show()\n",
        "# summarize history for loss\n",
        "plt.plot(history_pretrained.history['val_loss'])\n",
        "plt.title('model loss')\n",
        "plt.ylabel('loss')\n",
        "plt.xlabel('epoch')\n",
        "plt.legend(['Pretrained'], loc='upper left')\n",
        "plt.show()"
      ],
      "execution_count": 23,
      "outputs": [
        {
          "output_type": "display_data",
          "data": {
            "image/png": "[encoded data removed]",
            "text/plain": [
              "<Figure size 432x288 with 1 Axes>"
            ]
          },
          "metadata": {
            "tags": []
          }
        },
        {
          "output_type": "display_data",
          "data": {
            "image/png": "[encoded data removed]",
            "text/plain": [
              "<Figure size 432x288 with 1 Axes>"
            ]
          },
          "metadata": {
            "tags": []
          }
        }
      ]
    },
    {
      "cell_type": "code",
      "metadata": {
        "id": "gTlZ2BlmcXzV",
        "colab_type": "code",
        "colab": {
          "base_uri": "https://localhost:8080/",
          "height": 34
        },
        "outputId": "7a905cf5-5323-4aae-a798-9b489053c9f2"
      },
      "source": [
        "scores = inception_transfer.evaluate_generator(test_generator)\n",
        "print('acc =',scores[1]*100)"
      ],
      "execution_count": 24,
      "outputs": [
        {
          "output_type": "stream",
          "text": [
            "acc = 93.58974358974359\n"
          ],
          "name": "stdout"
        }
      ]
    }
  ]
}